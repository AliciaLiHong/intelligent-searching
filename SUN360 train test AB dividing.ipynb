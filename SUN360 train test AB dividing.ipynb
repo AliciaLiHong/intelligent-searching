{
 "cells": [
  {
   "cell_type": "markdown",
   "metadata": {},
   "source": [
    "The data set is from SUN360, there are totally 202,434 images."
   ]
  },
  {
   "cell_type": "code",
   "execution_count": 1,
   "metadata": {},
   "outputs": [],
   "source": [
    "import numpy as np\n",
    "import cv2\n",
    "import glob\n",
    "import random\n",
    "from sklearn.model_selection import train_test_split"
   ]
  },
  {
   "cell_type": "markdown",
   "metadata": {},
   "source": [
    "# get the image_name_list"
   ]
  },
  {
   "cell_type": "markdown",
   "metadata": {},
   "source": [
    "Divide the whole dataset into train set (58K) and test set (60K)\n",
    "Divide each set into two non-overlapping parts: part-A (~30%) and part-B (~70%)"
   ]
  },
  {
   "cell_type": "code",
   "execution_count": 2,
   "metadata": {},
   "outputs": [
    {
     "name": "stdout",
     "output_type": "stream",
     "text": [
      "99192\n",
      "103242\n",
      "29757\n",
      "69435\n",
      "30972\n",
      "72270\n"
     ]
    }
   ],
   "source": [
    "image_name_list = glob.glob('dataset/pano256x128/**/**/*.jpg', recursive = True) # the whole image dataset, 118287 images\n",
    "\n",
    "\n",
    "train_set, test_set = train_test_split(image_name_list, test_size = 0.51)# train-99,192 images, test-103,242 images.\n",
    "\n",
    "train_part_A, train_part_B = train_test_split(train_set, test_size = 0.7)# train_part_A-29,757, train_part_B-69,435 images \n",
    "\n",
    "test_part_A, test_part_B = train_test_split(test_set, test_size = 0.7) # test_part_A-30,972, test_part_B-72,270 images\n",
    "\n",
    "print(len(train_set))\n",
    "print(len(test_set))\n",
    "print(len(train_part_A))\n",
    "print(len(train_part_B))\n",
    "print(len(test_part_A))\n",
    "print(len(test_part_B))"
   ]
  },
  {
   "cell_type": "code",
   "execution_count": 3,
   "metadata": {},
   "outputs": [],
   "source": [
    "np.save('train_set',train_set)\n",
    "np.save('test_set', test_set)\n",
    "np.save('train_part_A', train_part_A)\n",
    "np.save('train_part_B', train_part_B)\n",
    "np.save('test_part_A', test_part_A)\n",
    "np.save('test_part_B', test_part_B)"
   ]
  },
  {
   "cell_type": "code",
   "execution_count": null,
   "metadata": {},
   "outputs": [],
   "source": []
  },
  {
   "cell_type": "code",
   "execution_count": null,
   "metadata": {},
   "outputs": [],
   "source": []
  }
 ],
 "metadata": {
  "kernelspec": {
   "display_name": "Python 3",
   "language": "python",
   "name": "python3"
  },
  "language_info": {
   "codemirror_mode": {
    "name": "ipython",
    "version": 3
   },
   "file_extension": ".py",
   "mimetype": "text/x-python",
   "name": "python",
   "nbconvert_exporter": "python",
   "pygments_lexer": "ipython3",
   "version": "3.6.5"
  }
 },
 "nbformat": 4,
 "nbformat_minor": 2
}
