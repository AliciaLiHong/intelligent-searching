{
 "cells": [
  {
   "cell_type": "code",
   "execution_count": 1,
   "metadata": {},
   "outputs": [],
   "source": [
    "# https://github.com/nightrome/cocostuff#downloads\n",
    "# image datasets from coco 2017 train images"
   ]
  },
  {
   "cell_type": "code",
   "execution_count": 2,
   "metadata": {},
   "outputs": [
    {
     "name": "stdout",
     "output_type": "stream",
     "text": [
      "/Users/mac/Project/IntelligentSearching/intelligent-searching/train2017\n"
     ]
    }
   ],
   "source": [
    "cd train2017/"
   ]
  },
  {
   "cell_type": "code",
   "execution_count": 3,
   "metadata": {},
   "outputs": [],
   "source": [
    "from matplotlib import pyplot as plt\n",
    "import numpy as np\n",
    "import cv2"
   ]
  },
  {
   "cell_type": "code",
   "execution_count": 4,
   "metadata": {},
   "outputs": [],
   "source": [
    "import glob"
   ]
  },
  {
   "cell_type": "code",
   "execution_count": 5,
   "metadata": {},
   "outputs": [],
   "source": [
    "image_name_list = glob.glob('*.jpg')"
   ]
  },
  {
   "cell_type": "code",
   "execution_count": 6,
   "metadata": {},
   "outputs": [],
   "source": [
    "import random\n",
    "im_chose = []\n",
    "im_left = []\n",
    "im_right = []\n",
    "hist_left = []\n",
    "hist_right = []\n",
    "for i in range(min(len(image_name_list), 20000)): # Should be sufficiently large (>= 10k reference images to start)\n",
    "    im = cv2.imread(image_name_list[i])\n",
    "    if im.shape[0] > 448 and im.shape[1] > 224: # Try to find images that are large enough to have 224x224 crops from the two halves\n",
    "\n",
    "        im_chose.append(im)\n",
    "        \n",
    "        left_x = random.randint(0, im.shape[0]//2 - 224)  # Crop out boundaries (rather than simply cut image into halves) to avoid simply continuity clue\n",
    "        left_y = random.randint(0, im.shape[1] - 224)\n",
    "        im_l = im[left_y:left_y+224, left_x:left_x+224]\n",
    "        im_left.append(im_l) # y:y+h, x:x+w\n",
    "        \n",
    "        \n",
    "        right_x = random.randint(im.shape[0]//2, im.shape[0]-224)\n",
    "        right_y = random.randint(0, im.shape[1] - 224)\n",
    "        im_r = im[right_y:right_y+224, right_x:right_x+224]\n",
    "        im_right.append(im_r)\n",
    "        \n",
    "\n",
    "        hist_left.append(cv2.calcHist([im_l], [0, 1, 2], None, [8, 8, 8], [0, 256, 0, 256, 0, 256]))\n",
    "        hist_right.append(cv2.calcHist([im_r], [0, 1, 2], None, [8, 8, 8], [0, 256, 0, 256, 0, 256]))        "
   ]
  },
  {
   "cell_type": "code",
   "execution_count": 7,
   "metadata": {},
   "outputs": [],
   "source": [
    "import numpy as np"
   ]
  },
  {
   "cell_type": "code",
   "execution_count": 8,
   "metadata": {},
   "outputs": [],
   "source": [
    "compare_method = 3 # the smaller the more accurate the match"
   ]
  },
  {
   "cell_type": "code",
   "execution_count": 9,
   "metadata": {},
   "outputs": [],
   "source": [
    "hist_match = []\n",
    "for i in range(len(hist_left)):\n",
    "    temp = []\n",
    "    for j in range(len(hist_right)):\n",
    "        halfi_halfj = cv2.compareHist( hist_left[i], hist_right[j], compare_method)\n",
    "        temp.append(halfi_halfj)\n",
    "    matchest = np.argmin(temp)\n",
    "    hist_match.append(matchest)"
   ]
  },
  {
   "cell_type": "code",
   "execution_count": 10,
   "metadata": {},
   "outputs": [
    {
     "name": "stdout",
     "output_type": "stream",
     "text": [
      "11363\n"
     ]
    }
   ],
   "source": [
    "print(len(hist_match))\n",
    "np.save('hist_match.npy', hist_match)"
   ]
  },
  {
   "cell_type": "code",
   "execution_count": 11,
   "metadata": {},
   "outputs": [],
   "source": [
    "matches = 0\n",
    "for i in range(len(hist_match)):\n",
    "    if hist_match[i] == i:\n",
    "        matches += 1\n",
    "accuracy = matches/len(hist_match) *100"
   ]
  },
  {
   "cell_type": "code",
   "execution_count": 12,
   "metadata": {},
   "outputs": [
    {
     "name": "stdout",
     "output_type": "stream",
     "text": [
      "accuracy: 12.72551262870721 %\n"
     ]
    }
   ],
   "source": [
    "print('accuracy:', accuracy, '%')  # 12.5%"
   ]
  }
 ],
 "metadata": {
  "kernelspec": {
   "display_name": "Python 3",
   "language": "python",
   "name": "python3"
  },
  "language_info": {
   "codemirror_mode": {
    "name": "ipython",
    "version": 3
   },
   "file_extension": ".py",
   "mimetype": "text/x-python",
   "name": "python",
   "nbconvert_exporter": "python",
   "pygments_lexer": "ipython3",
   "version": "3.6.4"
  }
 },
 "nbformat": 4,
 "nbformat_minor": 2
}
