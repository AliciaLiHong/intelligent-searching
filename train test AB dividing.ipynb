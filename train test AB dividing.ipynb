{
 "cells": [
  {
   "cell_type": "markdown",
   "metadata": {},
   "source": [
    "The data set is from coco train 2017, there are totally 118,287 images."
   ]
  },
  {
   "cell_type": "code",
   "execution_count": 1,
   "metadata": {},
   "outputs": [],
   "source": [
    "import numpy as np\n",
    "import cv2\n",
    "import glob\n",
    "import random\n",
    "from sklearn.model_selection import train_test_split"
   ]
  },
  {
   "cell_type": "markdown",
   "metadata": {},
   "source": [
    "Divide the whole dataset into train set (58K) and test set (60K)\n",
    "Divide each set into two non-overlapping parts: part-A (~30%) and part-B (~70%)"
   ]
  },
  {
   "cell_type": "code",
   "execution_count": 2,
   "metadata": {},
   "outputs": [],
   "source": [
    "image_name_list = glob.glob('train2017/*.jpg') # the whole image dataset, 118287 images\n",
    "\n",
    "\n",
    "train_set, test_set = train_test_split(image_name_list, test_size = 0.51)# train-57960 images, test-60327 images.\n",
    "\n",
    "train_part_A, train_part_B = train_test_split(train_set, test_size = 0.7)# train_part_A-17388, train_part_B-40572 images \n",
    "\n",
    "test_part_A, test_part_B = train_test_split(test_set, test_size = 0.7) # test_part_A-18098, test_part_B-42229 images"
   ]
  },
  {
   "cell_type": "code",
   "execution_count": 3,
   "metadata": {},
   "outputs": [],
   "source": [
    "np.save('train_set',train_set)\n",
    "np.save('test_set', test_set)\n",
    "np.save('train_part_A', train_part_A)\n",
    "np.save('train_part_B', train_part_B)\n",
    "np.save('test_part_A', test_part_A)\n",
    "np.save('test_part_B', test_part_B)"
   ]
  },
  {
   "cell_type": "code",
   "execution_count": null,
   "metadata": {},
   "outputs": [],
   "source": []
  },
  {
   "cell_type": "code",
   "execution_count": null,
   "metadata": {},
   "outputs": [],
   "source": []
  }
 ],
 "metadata": {
  "kernelspec": {
   "display_name": "Python 3",
   "language": "python",
   "name": "python3"
  },
  "language_info": {
   "codemirror_mode": {
    "name": "ipython",
    "version": 3
   },
   "file_extension": ".py",
   "mimetype": "text/x-python",
   "name": "python",
   "nbconvert_exporter": "python",
   "pygments_lexer": "ipython3",
   "version": "3.6.4"
  }
 },
 "nbformat": 4,
 "nbformat_minor": 2
}
